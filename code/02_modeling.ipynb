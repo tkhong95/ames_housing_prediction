{
 "cells": [
  {
   "cell_type": "code",
   "execution_count": 1,
   "id": "54ce66ff-486c-4f73-ad68-256e5e075edd",
   "metadata": {
    "tags": []
   },
   "outputs": [],
   "source": [
    "import pandas as pd\n",
    "import numpy as np\n",
    "import seaborn as sns\n",
    "import matplotlib.pyplot as plt\n",
    "\n",
    "from sklearn.model_selection import train_test_split, cross_val_score\n",
    "from sklearn.linear_model import LinearRegression, LassoCV, RidgeCV\n",
    "from sklearn.metrics import r2_score, mean_squared_error, accuracy_score, mean_absolute_error\n",
    "from sklearn.preprocessing import StandardScaler\n",
    "from sklearn.linear_model import LogisticRegression, LogisticRegressionCV\n",
    "\n",
    "%matplotlib inline"
   ]
  },
  {
   "cell_type": "code",
   "execution_count": 2,
   "id": "747b6821-6d4e-4f9e-bd93-f7b52d6846b1",
   "metadata": {
    "tags": []
   },
   "outputs": [
    {
     "data": {
      "text/html": [
       "<div>\n",
       "<style scoped>\n",
       "    .dataframe tbody tr th:only-of-type {\n",
       "        vertical-align: middle;\n",
       "    }\n",
       "\n",
       "    .dataframe tbody tr th {\n",
       "        vertical-align: top;\n",
       "    }\n",
       "\n",
       "    .dataframe thead th {\n",
       "        text-align: right;\n",
       "    }\n",
       "</style>\n",
       "<table border=\"1\" class=\"dataframe\">\n",
       "  <thead>\n",
       "    <tr style=\"text-align: right;\">\n",
       "      <th></th>\n",
       "      <th>id</th>\n",
       "      <th>overall_qual</th>\n",
       "      <th>year_built</th>\n",
       "      <th>year_remod/add</th>\n",
       "      <th>mas_vnr_area</th>\n",
       "      <th>total_bsmt_sf</th>\n",
       "      <th>1st_flr_sf</th>\n",
       "      <th>gr_liv_area</th>\n",
       "      <th>full_bath</th>\n",
       "      <th>totrms_abvgrd</th>\n",
       "      <th>...</th>\n",
       "      <th>garage_type_Basment</th>\n",
       "      <th>garage_type_BuiltIn</th>\n",
       "      <th>garage_type_CarPort</th>\n",
       "      <th>garage_type_Detchd</th>\n",
       "      <th>garage_finish_RFn</th>\n",
       "      <th>garage_finish_Unf</th>\n",
       "      <th>garage_cond_Fa</th>\n",
       "      <th>garage_cond_Gd</th>\n",
       "      <th>garage_cond_Po</th>\n",
       "      <th>garage_cond_TA</th>\n",
       "    </tr>\n",
       "  </thead>\n",
       "  <tbody>\n",
       "    <tr>\n",
       "      <th>0</th>\n",
       "      <td>109</td>\n",
       "      <td>6</td>\n",
       "      <td>1976</td>\n",
       "      <td>2005</td>\n",
       "      <td>289.0</td>\n",
       "      <td>725.0</td>\n",
       "      <td>725</td>\n",
       "      <td>1479</td>\n",
       "      <td>2</td>\n",
       "      <td>6</td>\n",
       "      <td>...</td>\n",
       "      <td>0.0</td>\n",
       "      <td>0.0</td>\n",
       "      <td>0.0</td>\n",
       "      <td>0.0</td>\n",
       "      <td>1.0</td>\n",
       "      <td>0.0</td>\n",
       "      <td>0.0</td>\n",
       "      <td>0.0</td>\n",
       "      <td>0.0</td>\n",
       "      <td>1.0</td>\n",
       "    </tr>\n",
       "    <tr>\n",
       "      <th>1</th>\n",
       "      <td>544</td>\n",
       "      <td>7</td>\n",
       "      <td>1996</td>\n",
       "      <td>1997</td>\n",
       "      <td>132.0</td>\n",
       "      <td>913.0</td>\n",
       "      <td>913</td>\n",
       "      <td>2122</td>\n",
       "      <td>2</td>\n",
       "      <td>8</td>\n",
       "      <td>...</td>\n",
       "      <td>0.0</td>\n",
       "      <td>0.0</td>\n",
       "      <td>0.0</td>\n",
       "      <td>0.0</td>\n",
       "      <td>1.0</td>\n",
       "      <td>0.0</td>\n",
       "      <td>0.0</td>\n",
       "      <td>0.0</td>\n",
       "      <td>0.0</td>\n",
       "      <td>1.0</td>\n",
       "    </tr>\n",
       "    <tr>\n",
       "      <th>2</th>\n",
       "      <td>153</td>\n",
       "      <td>5</td>\n",
       "      <td>1953</td>\n",
       "      <td>2007</td>\n",
       "      <td>0.0</td>\n",
       "      <td>1057.0</td>\n",
       "      <td>1057</td>\n",
       "      <td>1057</td>\n",
       "      <td>1</td>\n",
       "      <td>5</td>\n",
       "      <td>...</td>\n",
       "      <td>0.0</td>\n",
       "      <td>0.0</td>\n",
       "      <td>0.0</td>\n",
       "      <td>1.0</td>\n",
       "      <td>0.0</td>\n",
       "      <td>1.0</td>\n",
       "      <td>0.0</td>\n",
       "      <td>0.0</td>\n",
       "      <td>0.0</td>\n",
       "      <td>1.0</td>\n",
       "    </tr>\n",
       "    <tr>\n",
       "      <th>3</th>\n",
       "      <td>318</td>\n",
       "      <td>5</td>\n",
       "      <td>2006</td>\n",
       "      <td>2007</td>\n",
       "      <td>0.0</td>\n",
       "      <td>384.0</td>\n",
       "      <td>744</td>\n",
       "      <td>1444</td>\n",
       "      <td>2</td>\n",
       "      <td>7</td>\n",
       "      <td>...</td>\n",
       "      <td>0.0</td>\n",
       "      <td>1.0</td>\n",
       "      <td>0.0</td>\n",
       "      <td>0.0</td>\n",
       "      <td>0.0</td>\n",
       "      <td>0.0</td>\n",
       "      <td>0.0</td>\n",
       "      <td>0.0</td>\n",
       "      <td>0.0</td>\n",
       "      <td>1.0</td>\n",
       "    </tr>\n",
       "    <tr>\n",
       "      <th>4</th>\n",
       "      <td>255</td>\n",
       "      <td>6</td>\n",
       "      <td>1900</td>\n",
       "      <td>1993</td>\n",
       "      <td>0.0</td>\n",
       "      <td>676.0</td>\n",
       "      <td>831</td>\n",
       "      <td>1445</td>\n",
       "      <td>2</td>\n",
       "      <td>6</td>\n",
       "      <td>...</td>\n",
       "      <td>0.0</td>\n",
       "      <td>0.0</td>\n",
       "      <td>0.0</td>\n",
       "      <td>1.0</td>\n",
       "      <td>0.0</td>\n",
       "      <td>1.0</td>\n",
       "      <td>0.0</td>\n",
       "      <td>0.0</td>\n",
       "      <td>0.0</td>\n",
       "      <td>1.0</td>\n",
       "    </tr>\n",
       "  </tbody>\n",
       "</table>\n",
       "<p>5 rows × 91 columns</p>\n",
       "</div>"
      ],
      "text/plain": [
       "    id  overall_qual  year_built  year_remod/add  mas_vnr_area  total_bsmt_sf  \\\n",
       "0  109             6        1976            2005         289.0          725.0   \n",
       "1  544             7        1996            1997         132.0          913.0   \n",
       "2  153             5        1953            2007           0.0         1057.0   \n",
       "3  318             5        2006            2007           0.0          384.0   \n",
       "4  255             6        1900            1993           0.0          676.0   \n",
       "\n",
       "   1st_flr_sf  gr_liv_area  full_bath  totrms_abvgrd  ...  \\\n",
       "0         725         1479          2              6  ...   \n",
       "1         913         2122          2              8  ...   \n",
       "2        1057         1057          1              5  ...   \n",
       "3         744         1444          2              7  ...   \n",
       "4         831         1445          2              6  ...   \n",
       "\n",
       "   garage_type_Basment  garage_type_BuiltIn  garage_type_CarPort  \\\n",
       "0                  0.0                  0.0                  0.0   \n",
       "1                  0.0                  0.0                  0.0   \n",
       "2                  0.0                  0.0                  0.0   \n",
       "3                  0.0                  1.0                  0.0   \n",
       "4                  0.0                  0.0                  0.0   \n",
       "\n",
       "   garage_type_Detchd  garage_finish_RFn  garage_finish_Unf  garage_cond_Fa  \\\n",
       "0                 0.0                1.0                0.0             0.0   \n",
       "1                 0.0                1.0                0.0             0.0   \n",
       "2                 1.0                0.0                1.0             0.0   \n",
       "3                 0.0                0.0                0.0             0.0   \n",
       "4                 1.0                0.0                1.0             0.0   \n",
       "\n",
       "   garage_cond_Gd  garage_cond_Po  garage_cond_TA  \n",
       "0             0.0             0.0             1.0  \n",
       "1             0.0             0.0             1.0  \n",
       "2             0.0             0.0             1.0  \n",
       "3             0.0             0.0             1.0  \n",
       "4             0.0             0.0             1.0  \n",
       "\n",
       "[5 rows x 91 columns]"
      ]
     },
     "execution_count": 2,
     "metadata": {},
     "output_type": "execute_result"
    }
   ],
   "source": [
    "train_model = pd.read_csv('../datasets/train_cleaning.csv')\n",
    "train_model.head()"
   ]
  },
  {
   "cell_type": "markdown",
   "id": "fd0fe576-33d6-45a7-9ea9-902a97bb8d09",
   "metadata": {},
   "source": [
    "## Model 1 - Linear Regression + Ridge + Lasso"
   ]
  },
  {
   "cell_type": "code",
   "execution_count": 3,
   "id": "eb9341b1-c29e-45c2-8a94-e5b76cec4b6f",
   "metadata": {
    "tags": []
   },
   "outputs": [],
   "source": [
    "X = train_model.drop(columns = ['id','saleprice'])\n",
    "y = train_model['saleprice']"
   ]
  },
  {
   "cell_type": "code",
   "execution_count": 4,
   "id": "59db6e82-7948-4a74-a294-7c7fa70770b3",
   "metadata": {
    "tags": []
   },
   "outputs": [],
   "source": [
    "X_train, X_test, y_train, y_test = train_test_split(X, y, random_state=42)"
   ]
  },
  {
   "cell_type": "code",
   "execution_count": 5,
   "id": "b6dbe5c1-4fa6-41aa-b209-bef08f0e4687",
   "metadata": {
    "tags": []
   },
   "outputs": [
    {
     "data": {
      "text/html": [
       "<style>#sk-container-id-1 {color: black;}#sk-container-id-1 pre{padding: 0;}#sk-container-id-1 div.sk-toggleable {background-color: white;}#sk-container-id-1 label.sk-toggleable__label {cursor: pointer;display: block;width: 100%;margin-bottom: 0;padding: 0.3em;box-sizing: border-box;text-align: center;}#sk-container-id-1 label.sk-toggleable__label-arrow:before {content: \"▸\";float: left;margin-right: 0.25em;color: #696969;}#sk-container-id-1 label.sk-toggleable__label-arrow:hover:before {color: black;}#sk-container-id-1 div.sk-estimator:hover label.sk-toggleable__label-arrow:before {color: black;}#sk-container-id-1 div.sk-toggleable__content {max-height: 0;max-width: 0;overflow: hidden;text-align: left;background-color: #f0f8ff;}#sk-container-id-1 div.sk-toggleable__content pre {margin: 0.2em;color: black;border-radius: 0.25em;background-color: #f0f8ff;}#sk-container-id-1 input.sk-toggleable__control:checked~div.sk-toggleable__content {max-height: 200px;max-width: 100%;overflow: auto;}#sk-container-id-1 input.sk-toggleable__control:checked~label.sk-toggleable__label-arrow:before {content: \"▾\";}#sk-container-id-1 div.sk-estimator input.sk-toggleable__control:checked~label.sk-toggleable__label {background-color: #d4ebff;}#sk-container-id-1 div.sk-label input.sk-toggleable__control:checked~label.sk-toggleable__label {background-color: #d4ebff;}#sk-container-id-1 input.sk-hidden--visually {border: 0;clip: rect(1px 1px 1px 1px);clip: rect(1px, 1px, 1px, 1px);height: 1px;margin: -1px;overflow: hidden;padding: 0;position: absolute;width: 1px;}#sk-container-id-1 div.sk-estimator {font-family: monospace;background-color: #f0f8ff;border: 1px dotted black;border-radius: 0.25em;box-sizing: border-box;margin-bottom: 0.5em;}#sk-container-id-1 div.sk-estimator:hover {background-color: #d4ebff;}#sk-container-id-1 div.sk-parallel-item::after {content: \"\";width: 100%;border-bottom: 1px solid gray;flex-grow: 1;}#sk-container-id-1 div.sk-label:hover label.sk-toggleable__label {background-color: #d4ebff;}#sk-container-id-1 div.sk-serial::before {content: \"\";position: absolute;border-left: 1px solid gray;box-sizing: border-box;top: 0;bottom: 0;left: 50%;z-index: 0;}#sk-container-id-1 div.sk-serial {display: flex;flex-direction: column;align-items: center;background-color: white;padding-right: 0.2em;padding-left: 0.2em;position: relative;}#sk-container-id-1 div.sk-item {position: relative;z-index: 1;}#sk-container-id-1 div.sk-parallel {display: flex;align-items: stretch;justify-content: center;background-color: white;position: relative;}#sk-container-id-1 div.sk-item::before, #sk-container-id-1 div.sk-parallel-item::before {content: \"\";position: absolute;border-left: 1px solid gray;box-sizing: border-box;top: 0;bottom: 0;left: 50%;z-index: -1;}#sk-container-id-1 div.sk-parallel-item {display: flex;flex-direction: column;z-index: 1;position: relative;background-color: white;}#sk-container-id-1 div.sk-parallel-item:first-child::after {align-self: flex-end;width: 50%;}#sk-container-id-1 div.sk-parallel-item:last-child::after {align-self: flex-start;width: 50%;}#sk-container-id-1 div.sk-parallel-item:only-child::after {width: 0;}#sk-container-id-1 div.sk-dashed-wrapped {border: 1px dashed gray;margin: 0 0.4em 0.5em 0.4em;box-sizing: border-box;padding-bottom: 0.4em;background-color: white;}#sk-container-id-1 div.sk-label label {font-family: monospace;font-weight: bold;display: inline-block;line-height: 1.2em;}#sk-container-id-1 div.sk-label-container {text-align: center;}#sk-container-id-1 div.sk-container {/* jupyter's `normalize.less` sets `[hidden] { display: none; }` but bootstrap.min.css set `[hidden] { display: none !important; }` so we also need the `!important` here to be able to override the default hidden behavior on the sphinx rendered scikit-learn.org. See: https://github.com/scikit-learn/scikit-learn/issues/21755 */display: inline-block !important;position: relative;}#sk-container-id-1 div.sk-text-repr-fallback {display: none;}</style><div id=\"sk-container-id-1\" class=\"sk-top-container\"><div class=\"sk-text-repr-fallback\"><pre>LinearRegression()</pre><b>In a Jupyter environment, please rerun this cell to show the HTML representation or trust the notebook. <br />On GitHub, the HTML representation is unable to render, please try loading this page with nbviewer.org.</b></div><div class=\"sk-container\" hidden><div class=\"sk-item\"><div class=\"sk-estimator sk-toggleable\"><input class=\"sk-toggleable__control sk-hidden--visually\" id=\"sk-estimator-id-1\" type=\"checkbox\" checked><label for=\"sk-estimator-id-1\" class=\"sk-toggleable__label sk-toggleable__label-arrow\">LinearRegression</label><div class=\"sk-toggleable__content\"><pre>LinearRegression()</pre></div></div></div></div></div>"
      ],
      "text/plain": [
       "LinearRegression()"
      ]
     },
     "execution_count": 5,
     "metadata": {},
     "output_type": "execute_result"
    }
   ],
   "source": [
    "lr = LinearRegression()\n",
    "lr.fit(X_train, y_train)"
   ]
  },
  {
   "cell_type": "code",
   "execution_count": 6,
   "id": "83e3797b-a57c-4cf0-8dab-42363f6b515b",
   "metadata": {
    "tags": []
   },
   "outputs": [
    {
     "data": {
      "text/plain": [
       "0.8208199451078052"
      ]
     },
     "execution_count": 6,
     "metadata": {},
     "output_type": "execute_result"
    }
   ],
   "source": [
    "lr_scores = cross_val_score(lr, X_train, y_train, cv = 5)\n",
    "lr_scores.mean()"
   ]
  },
  {
   "cell_type": "code",
   "execution_count": 7,
   "id": "c256244f-036d-4d23-8af9-934f3cc5e4bf",
   "metadata": {},
   "outputs": [
    {
     "data": {
      "text/plain": [
       "0.8607828407527225"
      ]
     },
     "execution_count": 7,
     "metadata": {},
     "output_type": "execute_result"
    }
   ],
   "source": [
    "lr.score(X_train, y_train)"
   ]
  },
  {
   "cell_type": "code",
   "execution_count": 8,
   "id": "bb459b10-530f-46e7-b71a-7faa720b33ff",
   "metadata": {
    "tags": []
   },
   "outputs": [
    {
     "data": {
      "text/plain": [
       "0.8677778732496824"
      ]
     },
     "execution_count": 8,
     "metadata": {},
     "output_type": "execute_result"
    }
   ],
   "source": [
    "lr.score(X_test, y_test)"
   ]
  },
  {
   "cell_type": "markdown",
   "id": "f5db4e38-66fe-4ff8-a440-86fc5385f35e",
   "metadata": {},
   "source": [
    "- 86.8% of the variability in sale price can be explained by the X's in our model 1.\n",
    "- the score of test value is a little higher than the score of train value, the model is underfit. "
   ]
  },
  {
   "cell_type": "code",
   "execution_count": 9,
   "id": "e041bab4-566c-40c4-a89f-0406fcccccb2",
   "metadata": {
    "tags": []
   },
   "outputs": [],
   "source": [
    "predictions = lr.predict(X_test)"
   ]
  },
  {
   "cell_type": "code",
   "execution_count": 10,
   "id": "44789f0d-dee8-47ec-be60-598ede549275",
   "metadata": {
    "tags": []
   },
   "outputs": [
    {
     "data": {
      "text/plain": [
       "811847128.1412554"
      ]
     },
     "execution_count": 10,
     "metadata": {},
     "output_type": "execute_result"
    }
   ],
   "source": [
    "mse_lr = mean_squared_error(y_test, predictions)\n",
    "mse_lr"
   ]
  },
  {
   "cell_type": "code",
   "execution_count": 11,
   "id": "67f2bc91-12e7-44d3-9e26-886a4c41ece7",
   "metadata": {
    "tags": []
   },
   "outputs": [
    {
     "data": {
      "text/plain": [
       "28492.931196022204"
      ]
     },
     "execution_count": 11,
     "metadata": {},
     "output_type": "execute_result"
    }
   ],
   "source": [
    "rmse_lr = np.sqrt(mean_squared_error(y_test, predictions))\n",
    "rmse_lr"
   ]
  },
  {
   "cell_type": "code",
   "execution_count": 12,
   "id": "3dcd8509-1fef-4b33-8c60-46eca1463026",
   "metadata": {
    "tags": []
   },
   "outputs": [
    {
     "data": {
      "text/plain": [
       "20148.9089703707"
      ]
     },
     "execution_count": 12,
     "metadata": {},
     "output_type": "execute_result"
    }
   ],
   "source": [
    "mae_lr = mean_absolute_error(y_test, predictions)\n",
    "mae_lr"
   ]
  },
  {
   "cell_type": "markdown",
   "id": "c32e9be1-4893-4e54-b282-6e945bd85e9d",
   "metadata": {},
   "source": [
    "- the mean square error, mean absolute error, and root mean square error of this model are large. Need to decrease the value of those metrics. Maybe remove some outliers. "
   ]
  },
  {
   "cell_type": "code",
   "execution_count": 13,
   "id": "ffe552a1-404f-4f10-aa5f-e90d1b402732",
   "metadata": {
    "tags": []
   },
   "outputs": [
    {
     "data": {
      "text/plain": [
       "array([ 1.28426301e+04,  1.07945989e+02,  1.81801497e+02,  2.10473182e+01,\n",
       "        6.12660277e+00, -1.33145265e+01,  5.30454604e+01,  2.83409896e+03,\n",
       "        1.43257159e+03, -7.99312724e+01,  9.59227278e+03,  7.43129020e+00,\n",
       "        6.27339407e+03, -6.49215040e+04, -2.31959947e+03,  3.17356741e+04,\n",
       "        2.50812596e+04,  1.77964915e+04,  6.46059919e+03, -9.63072315e+03,\n",
       "        1.21674764e+03, -5.67860270e+02,  1.15487266e+04,  2.84382020e+03,\n",
       "        2.12578686e+03,  1.13629690e+04,  2.45715922e+04,  3.10499192e+04,\n",
       "       -7.73407705e+03,  7.48230611e+03, -2.67410857e+04, -1.79732102e+04,\n",
       "       -1.19098075e+04, -1.60802133e+04, -2.25105599e+04, -1.89517282e+04,\n",
       "        2.04382733e+04,  1.07612404e+04,  5.12861521e+04, -3.20461889e+03,\n",
       "       -5.59296314e+03,  2.88694004e+03, -9.06143706e+03,  1.87122680e+04,\n",
       "        3.00690494e+04,  2.50295208e+04, -3.39734242e+04,  2.66029998e+04,\n",
       "       -6.84896279e+04, -4.69461419e+04, -5.95302667e+04, -2.17368026e+04,\n",
       "       -1.40586239e+04, -3.35871616e+04, -1.80109472e+04,  1.75786897e+03,\n",
       "        6.45099202e+03, -1.30626351e+04, -4.05199409e+03, -1.11210778e+02,\n",
       "       -2.25942349e+04, -2.89497177e+04, -1.25232805e+04, -2.93701026e+04,\n",
       "        1.08217996e+04, -6.22057868e+03, -7.85609565e+03, -5.15894306e+03,\n",
       "        8.58533155e+02, -1.49951743e+04, -7.01523505e+03, -1.72006641e+04,\n",
       "       -2.10686613e+04,  8.19930275e+01, -2.49891870e+04, -2.28095322e+04,\n",
       "       -2.10163681e+04,  2.05823690e+03,  1.70973983e+04,  6.99147057e+03,\n",
       "        2.45986190e+04, -7.08779309e+02,  1.22218779e+04, -1.97308376e+03,\n",
       "        9.19868319e+02, -1.62402834e+04, -1.09998985e+04, -3.11705902e+04,\n",
       "       -8.10745878e+03])"
      ]
     },
     "execution_count": 13,
     "metadata": {},
     "output_type": "execute_result"
    }
   ],
   "source": [
    "lr.coef_"
   ]
  },
  {
   "cell_type": "code",
   "execution_count": 14,
   "id": "07bfb464-33cf-4e87-ab78-6e4642066fb7",
   "metadata": {
    "tags": []
   },
   "outputs": [
    {
     "data": {
      "text/plain": [
       "[('overall_qual', 12842.630112331683),\n",
       " ('year_built', 107.94598877220118),\n",
       " ('year_remod/add', 181.80149705955196),\n",
       " ('mas_vnr_area', 21.04731815399424),\n",
       " ('total_bsmt_sf', 6.12660277024122),\n",
       " ('1st_flr_sf', -13.314526493361825),\n",
       " ('gr_liv_area', 53.04546038998137),\n",
       " ('full_bath', 2834.098959920085),\n",
       " ('totrms_abvgrd', 1432.571588776067),\n",
       " ('garage_yr_blt', -79.93127237428052),\n",
       " ('garage_cars', 9592.27277982144),\n",
       " ('garage_area', 7.4312901950470405),\n",
       " ('lot_shape_IR2', 6273.394070187391),\n",
       " ('lot_shape_IR3', -64921.50396065679),\n",
       " ('lot_shape_Reg', -2319.599466286789),\n",
       " ('land_contour_HLS', 31735.67413494951),\n",
       " ('land_contour_Low', 25081.25958554681),\n",
       " ('land_contour_Lvl', 17796.49152559343),\n",
       " ('lot_config_CulDSac', 6460.599190492689),\n",
       " ('lot_config_FR2', -9630.723151067776),\n",
       " ('lot_config_FR3', 1216.7476354357696),\n",
       " ('lot_config_Inside', -567.8602700284537),\n",
       " ('land_slope_Mod', 11548.726600431919),\n",
       " ('land_slope_Sev', 2843.8202013476093),\n",
       " ('condition_1_Feedr', 2125.786858243533),\n",
       " ('condition_1_Norm', 11362.969036809427),\n",
       " ('condition_1_PosA', 24571.59217575789),\n",
       " ('condition_1_PosN', 31049.919167648146),\n",
       " ('condition_1_RRAe', -7734.077051747263),\n",
       " ('condition_1_RRAn', 7482.306111253171),\n",
       " ('condition_1_RRNe', -26741.085690935124),\n",
       " ('condition_1_RRNn', -17973.210188860827),\n",
       " ('bldg_type_2fmCon', -11909.807509993907),\n",
       " ('bldg_type_Duplex', -16080.213309570898),\n",
       " ('bldg_type_Twnhs', -22510.559850659978),\n",
       " ('bldg_type_TwnhsE', -18951.7281850355),\n",
       " ('house_style_1.5Unf', 20438.273297826152),\n",
       " ('house_style_1Story', 10761.240415405806),\n",
       " ('house_style_2.5Fin', 51286.15205751758),\n",
       " ('house_style_2.5Unf', -3204.618889587804),\n",
       " ('house_style_2Story', -5592.9631389055985),\n",
       " ('house_style_SFoyer', 2886.94003895019),\n",
       " ('house_style_SLvl', -9061.437064831482),\n",
       " ('roof_style_Gable', 18712.268038931725),\n",
       " ('roof_style_Gambrel', 30069.049405070917),\n",
       " ('roof_style_Hip', 25029.5208451236),\n",
       " ('roof_style_Mansard', -33973.42416327054),\n",
       " ('roof_style_Shed', 26602.999843943708),\n",
       " ('exter_qual_Fa', -68489.62793447674),\n",
       " ('exter_qual_Gd', -46946.14189710646),\n",
       " ('exter_qual_TA', -59530.26665318055),\n",
       " ('exter_cond_Fa', -21736.802646211094),\n",
       " ('exter_cond_Gd', -14058.623882439482),\n",
       " ('exter_cond_Po', -33587.16164880909),\n",
       " ('exter_cond_TA', -18010.947194367556),\n",
       " ('foundation_CBlock', 1757.8689668857078),\n",
       " ('foundation_PConc', 6450.992017339222),\n",
       " ('foundation_Slab', -13062.635114486482),\n",
       " ('foundation_Stone', -4051.9940886989734),\n",
       " ('foundation_Wood', -111.21077788848743),\n",
       " ('bsmt_qual_Fa', -22594.2349367477),\n",
       " ('bsmt_qual_Gd', -28949.717711924204),\n",
       " ('bsmt_qual_Po', -12523.28045779686),\n",
       " ('bsmt_qual_TA', -29370.102582987085),\n",
       " ('bsmt_exposure_Gd', 10821.799554248502),\n",
       " ('bsmt_exposure_Mn', -6220.578681147419),\n",
       " ('bsmt_exposure_No', -7856.095652957482),\n",
       " ('bsmtfin_type_1_BLQ', -5158.943058484201),\n",
       " ('bsmtfin_type_1_GLQ', 858.5331548169306),\n",
       " ('bsmtfin_type_1_LwQ', -14995.174311174444),\n",
       " ('bsmtfin_type_1_Rec', -7015.235052386002),\n",
       " ('bsmtfin_type_1_Unf', -17200.66410941946),\n",
       " ('bsmtfin_type_2_BLQ', -21068.66129069514),\n",
       " ('bsmtfin_type_2_GLQ', 81.99302746786452),\n",
       " ('bsmtfin_type_2_LwQ', -24989.187001336362),\n",
       " ('bsmtfin_type_2_Rec', -22809.532169842758),\n",
       " ('bsmtfin_type_2_Unf', -21016.368089486074),\n",
       " ('central_air_Y', 2058.236898474457),\n",
       " ('garage_type_Attchd', 17097.3982660863),\n",
       " ('garage_type_Basment', 6991.4705654333875),\n",
       " ('garage_type_BuiltIn', 24598.618951481116),\n",
       " ('garage_type_CarPort', -708.7793086563929),\n",
       " ('garage_type_Detchd', 12221.877948069807),\n",
       " ('garage_finish_RFn', -1973.0837599728475),\n",
       " ('garage_finish_Unf', 919.8683188932155),\n",
       " ('garage_cond_Fa', -16240.283412280989),\n",
       " ('garage_cond_Gd', -10999.898482585751),\n",
       " ('garage_cond_Po', -31170.590218018737),\n",
       " ('garage_cond_TA', -8107.458776036566)]"
      ]
     },
     "execution_count": 14,
     "metadata": {},
     "output_type": "execute_result"
    }
   ],
   "source": [
    "list(zip(X.columns,lr.coef_))"
   ]
  },
  {
   "cell_type": "markdown",
   "id": "39a87df7-d65b-45a6-8182-e5c01138432e",
   "metadata": {},
   "source": [
    "- Features that have positive coefficient indicate as the value of those features increase, the price of the house will increase. For example, if hold the other features in constant, for every  1 square feet increase in the total basement area, the price of house increase by 6 dollars.\n",
    "- Features that have positive coefficient indicate as the value of those features increase, the price of the house will decrease. "
   ]
  },
  {
   "cell_type": "markdown",
   "id": "8cfac4c6-04b3-4f06-b2b2-190c490a62f7",
   "metadata": {},
   "source": [
    "#### Ridge and Lasso"
   ]
  },
  {
   "cell_type": "code",
   "execution_count": 15,
   "id": "29719098-a981-4bf3-a17e-5cf386ac8604",
   "metadata": {
    "tags": []
   },
   "outputs": [],
   "source": [
    "ss = StandardScaler()\n",
    "X_train_sc = ss.fit_transform(X_train)\n",
    "X_test_sc = ss.transform(X_test)"
   ]
  },
  {
   "cell_type": "code",
   "execution_count": 16,
   "id": "972a6db4-fe90-49ab-b066-5a16ea9aa6e7",
   "metadata": {
    "tags": []
   },
   "outputs": [],
   "source": [
    "ridge = RidgeCV(alphas=np.linspace(.1, 10, 100))"
   ]
  },
  {
   "cell_type": "code",
   "execution_count": 17,
   "id": "7d70e10c-0c57-45db-baf7-802f93fa5540",
   "metadata": {
    "tags": []
   },
   "outputs": [],
   "source": [
    "ridge = ridge.fit(X_train_sc,y_train)"
   ]
  },
  {
   "cell_type": "code",
   "execution_count": 18,
   "id": "a36b9211-7f21-413b-abd6-b9e1f905f253",
   "metadata": {
    "tags": []
   },
   "outputs": [
    {
     "data": {
      "text/plain": [
       "0.8213380778594106"
      ]
     },
     "execution_count": 18,
     "metadata": {},
     "output_type": "execute_result"
    }
   ],
   "source": [
    "ridge_scores = cross_val_score(ridge, X_train_sc, y_train, cv = 5)\n",
    "ridge_scores.mean()"
   ]
  },
  {
   "cell_type": "code",
   "execution_count": 19,
   "id": "f3741193-683b-46e7-bc09-ed07d700c607",
   "metadata": {
    "tags": []
   },
   "outputs": [
    {
     "data": {
      "text/plain": [
       "0.8604652560127091"
      ]
     },
     "execution_count": 19,
     "metadata": {},
     "output_type": "execute_result"
    }
   ],
   "source": [
    "ridge.score(X_train_sc, y_train)"
   ]
  },
  {
   "cell_type": "code",
   "execution_count": 20,
   "id": "0ca2468d-4648-41a3-94f4-adf712dcc3aa",
   "metadata": {
    "tags": []
   },
   "outputs": [
    {
     "data": {
      "text/plain": [
       "0.8701352688605958"
      ]
     },
     "execution_count": 20,
     "metadata": {},
     "output_type": "execute_result"
    }
   ],
   "source": [
    "ridge.score(X_test_sc, y_test)"
   ]
  },
  {
   "cell_type": "markdown",
   "id": "a38ad603-5c59-44e0-802e-8b2a2a16819d",
   "metadata": {},
   "source": [
    "- the test score is increase, the train score is decrease comparing to the linear model"
   ]
  },
  {
   "cell_type": "code",
   "execution_count": 21,
   "id": "f39eb242-dcaa-4b5d-8f42-b6575b9e9e5c",
   "metadata": {
    "tags": []
   },
   "outputs": [
    {
     "data": {
      "text/plain": [
       "10.0"
      ]
     },
     "execution_count": 21,
     "metadata": {},
     "output_type": "execute_result"
    }
   ],
   "source": [
    "ridge.alpha_ #the alpha give the best model in the alpha range above"
   ]
  },
  {
   "cell_type": "code",
   "execution_count": 22,
   "id": "4d5eeccd-b33a-480b-902c-9a612e20abbc",
   "metadata": {
    "tags": []
   },
   "outputs": [
    {
     "data": {
      "text/plain": [
       "[('overall_qual', 18483.777962869102),\n",
       " ('year_built', 3386.9484260628396),\n",
       " ('year_remod/add', 3945.826786974709),\n",
       " ('mas_vnr_area', 3991.738909000501),\n",
       " ('total_bsmt_sf', 2945.746392876821),\n",
       " ('1st_flr_sf', -3317.592128929115),\n",
       " ('gr_liv_area', 24127.274387497015),\n",
       " ('full_bath', 1691.9268677436833),\n",
       " ('totrms_abvgrd', 2757.799627691469),\n",
       " ('garage_yr_blt', -1773.3731802534166),\n",
       " ('garage_cars', 6737.488943236647),\n",
       " ('garage_area', 2141.0308935703715),\n",
       " ('lot_shape_IR2', 943.7220448427555),\n",
       " ('lot_shape_IR3', -4340.329404328145),\n",
       " ('lot_shape_Reg', -1104.5516508071646),\n",
       " ('land_contour_HLS', 6320.184660181934),\n",
       " ('land_contour_Low', 3364.1010252329565),\n",
       " ('land_contour_Lvl', 5110.551161322051),\n",
       " ('lot_config_CulDSac', 1579.0196505747115),\n",
       " ('lot_config_FR2', -1604.3976483024837),\n",
       " ('lot_config_FR3', 35.97378925295567),\n",
       " ('lot_config_Inside', -230.974773740113),\n",
       " ('land_slope_Mod', 2284.408820875864),\n",
       " ('land_slope_Sev', 162.59518768748902),\n",
       " ('condition_1_Feedr', 383.2291381010306),\n",
       " ('condition_1_Norm', 3728.48552833773),\n",
       " ('condition_1_PosA', 1925.4713057074725),\n",
       " ('condition_1_PosN', 3370.5293164773393),\n",
       " ('condition_1_RRAe', -834.0479539588235),\n",
       " ('condition_1_RRAn', 963.9121539606509),\n",
       " ('condition_1_RRNe', -1192.0185348550767),\n",
       " ('condition_1_RRNn', -1105.007097346709),\n",
       " ('bldg_type_2fmCon', -1901.9509797794076),\n",
       " ('bldg_type_Duplex', -3047.3517139137466),\n",
       " ('bldg_type_Twnhs', -4084.306244872741),\n",
       " ('bldg_type_TwnhsE', -5034.017045494144),\n",
       " ('house_style_1.5Unf', 1284.752399620579),\n",
       " ('house_style_1Story', 3942.421383508892),\n",
       " ('house_style_2.5Fin', 2442.252338767631),\n",
       " ('house_style_2.5Unf', -68.82990299064012),\n",
       " ('house_style_2Story', -2085.691847188027),\n",
       " ('house_style_SFoyer', 115.61253606504229),\n",
       " ('house_style_SLvl', -2201.3783427558524),\n",
       " ('roof_style_Gable', 5086.634933845243),\n",
       " ('roof_style_Gambrel', 1821.9757450885159),\n",
       " ('roof_style_Hip', 7548.905877863136),\n",
       " ('roof_style_Mansard', -1964.5178431563581),\n",
       " ('roof_style_Shed', 748.9416178340234),\n",
       " ('exter_qual_Fa', -6932.634375129492),\n",
       " ('exter_qual_Gd', -19410.39514344622),\n",
       " ('exter_qual_TA', -25818.16978501948),\n",
       " ('exter_cond_Fa', -2722.7477534857812),\n",
       " ('exter_cond_Gd', -3036.370397858451),\n",
       " ('exter_cond_Po', -1040.3405145558263),\n",
       " ('exter_cond_TA', -4734.054691207491),\n",
       " ('foundation_CBlock', 629.1374467614938),\n",
       " ('foundation_PConc', 3079.122122502283),\n",
       " ('foundation_Slab', -1528.4188006302363),\n",
       " ('foundation_Stone', -181.4892069123961),\n",
       " ('foundation_Wood', 7.9373355394173055),\n",
       " ('bsmt_qual_Fa', -3697.309124904723),\n",
       " ('bsmt_qual_Gd', -14177.770474750358),\n",
       " ('bsmt_qual_Po', -313.198607668392),\n",
       " ('bsmt_qual_TA', -14202.66690368771),\n",
       " ('bsmt_exposure_Gd', 3283.4924767679754),\n",
       " ('bsmt_exposure_Mn', -1596.625531356885),\n",
       " ('bsmt_exposure_No', -3582.657710265702),\n",
       " ('bsmtfin_type_1_BLQ', -1440.0463217021088),\n",
       " ('bsmtfin_type_1_GLQ', 680.7890683045708),\n",
       " ('bsmtfin_type_1_LwQ', -3019.145033074827),\n",
       " ('bsmtfin_type_1_Rec', -1916.3594112338753),\n",
       " ('bsmtfin_type_1_Unf', -7632.6744114657795),\n",
       " ('bsmtfin_type_2_BLQ', -2851.824662759314),\n",
       " ('bsmtfin_type_2_GLQ', 217.06434958794273),\n",
       " ('bsmtfin_type_2_LwQ', -3986.9654155699345),\n",
       " ('bsmtfin_type_2_Rec', -3868.5229185191592),\n",
       " ('bsmtfin_type_2_Unf', -6081.014118265051),\n",
       " ('central_air_Y', 547.6117396663774),\n",
       " ('garage_type_Attchd', 6203.481089025854),\n",
       " ('garage_type_Basment', 209.95714332202957),\n",
       " ('garage_type_BuiltIn', 5242.848065501046),\n",
       " ('garage_type_CarPort', -362.7939321850306),\n",
       " ('garage_type_Detchd', 3611.9726301393534),\n",
       " ('garage_finish_RFn', -1026.9132935188136),\n",
       " ('garage_finish_Unf', 253.21631207910778),\n",
       " ('garage_cond_Fa', -1758.161548164259),\n",
       " ('garage_cond_Gd', -512.0054571907997),\n",
       " ('garage_cond_Po', -1989.430853415691),\n",
       " ('garage_cond_TA', -834.2418328162752)]"
      ]
     },
     "execution_count": 22,
     "metadata": {},
     "output_type": "execute_result"
    }
   ],
   "source": [
    "list(zip(X.columns, ridge.coef_))"
   ]
  },
  {
   "cell_type": "code",
   "execution_count": 23,
   "id": "487189d3-d1bd-4d03-8637-e3a625aac2db",
   "metadata": {
    "tags": []
   },
   "outputs": [],
   "source": [
    "predictions_r1 = ridge.predict(X_test_sc)"
   ]
  },
  {
   "cell_type": "code",
   "execution_count": 24,
   "id": "e851a3ae-fe91-4f3c-9d33-ca3461cf5d6e",
   "metadata": {
    "tags": []
   },
   "outputs": [
    {
     "data": {
      "text/plain": [
       "797372660.7911203"
      ]
     },
     "execution_count": 24,
     "metadata": {},
     "output_type": "execute_result"
    }
   ],
   "source": [
    "mean_squared_error(y_test, predictions_r1)"
   ]
  },
  {
   "cell_type": "code",
   "execution_count": 25,
   "id": "08bab4a3-d822-4040-b17f-2ea276bc0e09",
   "metadata": {
    "tags": []
   },
   "outputs": [
    {
     "data": {
      "text/plain": [
       "28237.78781687971"
      ]
     },
     "execution_count": 25,
     "metadata": {},
     "output_type": "execute_result"
    }
   ],
   "source": [
    "np.sqrt(mean_squared_error(y_test, predictions_r1))"
   ]
  },
  {
   "cell_type": "code",
   "execution_count": 26,
   "id": "048b624e-751a-406b-a214-46baa2a0e147",
   "metadata": {
    "tags": []
   },
   "outputs": [
    {
     "data": {
      "text/plain": [
       "20076.860088421836"
      ]
     },
     "execution_count": 26,
     "metadata": {},
     "output_type": "execute_result"
    }
   ],
   "source": [
    "mean_absolute_error(y_test, predictions_r1)"
   ]
  },
  {
   "cell_type": "markdown",
   "id": "277aebb2-c0f9-4765-831d-823bdd5b58f5",
   "metadata": {},
   "source": [
    "- mean squared error, root mean squared error, and mean absolute error are smaller in the ridge model compare to linear model."
   ]
  },
  {
   "cell_type": "code",
   "execution_count": 27,
   "id": "5ba981d2-71ba-4eb4-9f38-26ae84f28f97",
   "metadata": {
    "tags": []
   },
   "outputs": [],
   "source": [
    "lasso = LassoCV(n_alphas=200)"
   ]
  },
  {
   "cell_type": "code",
   "execution_count": 28,
   "id": "3524ad36-2ed3-44ee-aefe-d1d2fd09e5ec",
   "metadata": {
    "tags": []
   },
   "outputs": [],
   "source": [
    "lasso = lasso.fit(X_train_sc, y_train)"
   ]
  },
  {
   "cell_type": "code",
   "execution_count": 29,
   "id": "dd1a1705-0181-4654-afe3-9c3238c50353",
   "metadata": {
    "tags": []
   },
   "outputs": [
    {
     "data": {
      "text/plain": [
       "0.819539644034484"
      ]
     },
     "execution_count": 29,
     "metadata": {},
     "output_type": "execute_result"
    }
   ],
   "source": [
    "lasso_scores = cross_val_score(lasso, X_train_sc, y_train, cv = 5)\n",
    "lasso_scores.mean()"
   ]
  },
  {
   "cell_type": "code",
   "execution_count": 30,
   "id": "32b3b40d-61f4-43a6-8b92-0944185a521b",
   "metadata": {
    "tags": []
   },
   "outputs": [
    {
     "data": {
      "text/plain": [
       "0.8603060457917281"
      ]
     },
     "execution_count": 30,
     "metadata": {},
     "output_type": "execute_result"
    }
   ],
   "source": [
    "lasso.score(X_train_sc, y_train)"
   ]
  },
  {
   "cell_type": "code",
   "execution_count": 31,
   "id": "d817e4fb-b22c-4956-8ca9-3c8510d2b0a0",
   "metadata": {
    "tags": []
   },
   "outputs": [
    {
     "data": {
      "text/plain": [
       "0.8718519106660529"
      ]
     },
     "execution_count": 31,
     "metadata": {},
     "output_type": "execute_result"
    }
   ],
   "source": [
    "lasso.score(X_test_sc, y_test)"
   ]
  },
  {
   "cell_type": "code",
   "execution_count": 32,
   "id": "7c1a8d05-81d6-496c-b76c-a7ab3c6842b2",
   "metadata": {},
   "outputs": [
    {
     "data": {
      "text/plain": [
       "63.28868272864419"
      ]
     },
     "execution_count": 32,
     "metadata": {},
     "output_type": "execute_result"
    }
   ],
   "source": [
    "lasso.alpha_"
   ]
  },
  {
   "cell_type": "code",
   "execution_count": 33,
   "id": "efc77646-8e0f-4892-80a2-19106d92ff81",
   "metadata": {
    "tags": []
   },
   "outputs": [
    {
     "data": {
      "text/plain": [
       "[('overall_qual', 18565.827638133833),\n",
       " ('year_built', 3309.710084901464),\n",
       " ('year_remod/add', 3861.05512875563),\n",
       " ('mas_vnr_area', 3764.439573333201),\n",
       " ('total_bsmt_sf', 2669.6411764182576),\n",
       " ('1st_flr_sf', -3537.0402994452775),\n",
       " ('gr_liv_area', 25327.441833358425),\n",
       " ('full_bath', 1381.5943834184468),\n",
       " ('totrms_abvgrd', 2072.640973029716),\n",
       " ('garage_yr_blt', -1280.764378871261),\n",
       " ('garage_cars', 7071.491058671405),\n",
       " ('garage_area', 1517.430854859835),\n",
       " ('lot_shape_IR2', 889.6654973175871),\n",
       " ('lot_shape_IR3', -4349.053592719676),\n",
       " ('lot_shape_Reg', -1051.6815348667067),\n",
       " ('land_contour_HLS', 6163.188114362101),\n",
       " ('land_contour_Low', 3279.3231464785777),\n",
       " ('land_contour_Lvl', 4947.155398110125),\n",
       " ('lot_config_CulDSac', 1597.9174392683465),\n",
       " ('lot_config_FR2', -1500.7022772133587),\n",
       " ('lot_config_FR3', 5.559953103207579),\n",
       " ('lot_config_Inside', -118.21874739497598),\n",
       " ('land_slope_Mod', 2117.5388103883847),\n",
       " ('land_slope_Sev', 70.88007799144202),\n",
       " ('condition_1_Feedr', 66.51038986393071),\n",
       " ('condition_1_Norm', 3299.2781900104374),\n",
       " ('condition_1_PosA', 1716.4692065936413),\n",
       " ('condition_1_PosN', 3181.351931919829),\n",
       " ('condition_1_RRAe', -864.5281866344351),\n",
       " ('condition_1_RRAn', 743.1308932203929),\n",
       " ('condition_1_RRNe', -1160.3396126067134),\n",
       " ('condition_1_RRNn', -1149.0979754097525),\n",
       " ('bldg_type_2fmCon', -1824.8428083053502),\n",
       " ('bldg_type_Duplex', -2899.173718102321),\n",
       " ('bldg_type_Twnhs', -4052.4866377578005),\n",
       " ('bldg_type_TwnhsE', -5153.49791420397),\n",
       " ('house_style_1.5Unf', 1236.2013092384823),\n",
       " ('house_style_1Story', 4231.992733779),\n",
       " ('house_style_2.5Fin', 2285.091639767974),\n",
       " ('house_style_2.5Unf', -0.0),\n",
       " ('house_style_2Story', -2108.3552044222474),\n",
       " ('house_style_SFoyer', 124.54573342102022),\n",
       " ('house_style_SLvl', -1938.7214922091684),\n",
       " ('roof_style_Gable', 3158.9558927133253),\n",
       " ('roof_style_Gambrel', 1398.8883054693147),\n",
       " ('roof_style_Hip', 5691.366791703259),\n",
       " ('roof_style_Mansard', -2163.1691887409474),\n",
       " ('roof_style_Shed', 505.76734324165824),\n",
       " ('exter_qual_Fa', -7470.131803005573),\n",
       " ('exter_qual_Gd', -21347.146734333994),\n",
       " ('exter_qual_TA', -28073.131991349073),\n",
       " ('exter_cond_Fa', -1151.2993215720244),\n",
       " ('exter_cond_Gd', -0.0),\n",
       " ('exter_cond_Po', -632.1268318623875),\n",
       " ('exter_cond_TA', -1377.7863616955765),\n",
       " ('foundation_CBlock', 355.8447737989676),\n",
       " ('foundation_PConc', 2678.7021915086534),\n",
       " ('foundation_Slab', -1569.6503793572724),\n",
       " ('foundation_Stone', -210.92164466084762),\n",
       " ('foundation_Wood', -0.0),\n",
       " ('bsmt_qual_Fa', -3662.85460025236),\n",
       " ('bsmt_qual_Gd', -14025.896768498476),\n",
       " ('bsmt_qual_Po', -212.49557882204917),\n",
       " ('bsmt_qual_TA', -14095.431260118668),\n",
       " ('bsmt_exposure_Gd', 3194.0456945160686),\n",
       " ('bsmt_exposure_Mn', -1499.7274969830225),\n",
       " ('bsmt_exposure_No', -3486.1541741863666),\n",
       " ('bsmtfin_type_1_BLQ', -1262.3868008949905),\n",
       " ('bsmtfin_type_1_GLQ', 555.5483022897342),\n",
       " ('bsmtfin_type_1_LwQ', -2883.1107871947884),\n",
       " ('bsmtfin_type_1_Rec', -1827.7614073218783),\n",
       " ('bsmtfin_type_1_Unf', -7629.069529884276),\n",
       " ('bsmtfin_type_2_BLQ', -2478.519413586109),\n",
       " ('bsmtfin_type_2_GLQ', 294.8302928955892),\n",
       " ('bsmtfin_type_2_LwQ', -3516.3491362346244),\n",
       " ('bsmtfin_type_2_Rec', -3418.5985745834023),\n",
       " ('bsmtfin_type_2_Unf', -5380.0034564231055),\n",
       " ('central_air_Y', 601.2072102358846),\n",
       " ('garage_type_Attchd', 4663.364410864497),\n",
       " ('garage_type_Basment', -76.86871209165429),\n",
       " ('garage_type_BuiltIn', 4306.3767403161955),\n",
       " ('garage_type_CarPort', -564.0088894696447),\n",
       " ('garage_type_Detchd', 2225.0176758896205),\n",
       " ('garage_finish_RFn', -1003.284365678191),\n",
       " ('garage_finish_Unf', 36.36502869681052),\n",
       " ('garage_cond_Fa', -1003.5835400885487),\n",
       " ('garage_cond_Gd', -72.89295853907998),\n",
       " ('garage_cond_Po', -1552.573537388791),\n",
       " ('garage_cond_TA', 0.0)]"
      ]
     },
     "execution_count": 33,
     "metadata": {},
     "output_type": "execute_result"
    }
   ],
   "source": [
    "list(zip(X.columns,lasso.coef_))"
   ]
  },
  {
   "cell_type": "code",
   "execution_count": 34,
   "id": "a95bff5c-4af7-4ee6-832e-116d3f5eff83",
   "metadata": {
    "tags": []
   },
   "outputs": [],
   "source": [
    "predictions_l1 = lasso.predict(X_test_sc)"
   ]
  },
  {
   "cell_type": "code",
   "execution_count": 35,
   "id": "5768a653-9573-48b9-b105-b982eeb350fd",
   "metadata": {
    "tags": []
   },
   "outputs": [
    {
     "data": {
      "text/plain": [
       "786832437.6525278"
      ]
     },
     "execution_count": 35,
     "metadata": {},
     "output_type": "execute_result"
    }
   ],
   "source": [
    "mean_squared_error(y_test, predictions_l1)"
   ]
  },
  {
   "cell_type": "code",
   "execution_count": 36,
   "id": "b0d0fcb3-a6b3-4536-a051-30ecda43a04b",
   "metadata": {
    "tags": []
   },
   "outputs": [
    {
     "data": {
      "text/plain": [
       "28050.53364291895"
      ]
     },
     "execution_count": 36,
     "metadata": {},
     "output_type": "execute_result"
    }
   ],
   "source": [
    "np.sqrt(mean_squared_error(y_test, predictions_l1))"
   ]
  },
  {
   "cell_type": "code",
   "execution_count": 37,
   "id": "7b57bd56-e2be-4bbf-be15-ac71292539d1",
   "metadata": {
    "tags": []
   },
   "outputs": [
    {
     "data": {
      "text/plain": [
       "19918.72015777624"
      ]
     },
     "execution_count": 37,
     "metadata": {},
     "output_type": "execute_result"
    }
   ],
   "source": [
    "mean_absolute_error(y_test, predictions_l1)"
   ]
  },
  {
   "cell_type": "markdown",
   "id": "94656916-ffff-40f4-8810-775a8d477862",
   "metadata": {},
   "source": [
    "- mean squared error, root mean squared error, and mean absolute error in lasso model are smaller than ridge model. "
   ]
  },
  {
   "cell_type": "markdown",
   "id": "15828d61-885b-42fe-bff4-2b08acca7626",
   "metadata": {},
   "source": [
    "### Model 2 - change the alpha of ridge and lasso model "
   ]
  },
  {
   "cell_type": "markdown",
   "id": "2eae954f-55ed-44ad-8cbb-a532deac66af",
   "metadata": {
    "tags": []
   },
   "source": [
    "#### keep the linear regression the same"
   ]
  },
  {
   "cell_type": "code",
   "execution_count": 38,
   "id": "6c5f2f7c-45b0-4931-b725-a15f886cd35a",
   "metadata": {
    "tags": []
   },
   "outputs": [],
   "source": [
    "ridge_2 = RidgeCV(alphas = np.logspace(1,10,100))"
   ]
  },
  {
   "cell_type": "code",
   "execution_count": 39,
   "id": "b3ef86c4-db34-4e1d-908c-c81967318048",
   "metadata": {
    "tags": []
   },
   "outputs": [],
   "source": [
    "ridge_2 = ridge_2.fit(X_train_sc,y_train)"
   ]
  },
  {
   "cell_type": "code",
   "execution_count": 40,
   "id": "2c73df00-7ca1-42e1-99b5-9d268d1c4e30",
   "metadata": {
    "tags": []
   },
   "outputs": [
    {
     "data": {
      "text/plain": [
       "0.860153747916093"
      ]
     },
     "execution_count": 40,
     "metadata": {},
     "output_type": "execute_result"
    }
   ],
   "source": [
    "ridge_2.score(X_train_sc, y_train)"
   ]
  },
  {
   "cell_type": "code",
   "execution_count": 41,
   "id": "c83df5bb-7eda-4e2e-8e2e-1d5a46701cfd",
   "metadata": {
    "tags": []
   },
   "outputs": [
    {
     "data": {
      "text/plain": [
       "0.8708378678333742"
      ]
     },
     "execution_count": 41,
     "metadata": {},
     "output_type": "execute_result"
    }
   ],
   "source": [
    "ridge_2.score(X_test_sc, y_test)"
   ]
  },
  {
   "cell_type": "code",
   "execution_count": 42,
   "id": "80257394-1d7e-4097-abb7-4059e0ce9434",
   "metadata": {
    "tags": []
   },
   "outputs": [
    {
     "data": {
      "text/plain": [
       "0.8185072398368156"
      ]
     },
     "execution_count": 42,
     "metadata": {},
     "output_type": "execute_result"
    }
   ],
   "source": [
    "ridge_scores_2 = cross_val_score(ridge_2, X_train_sc, y_train, cv = 5)\n",
    "ridge_scores_2.mean()"
   ]
  },
  {
   "cell_type": "code",
   "execution_count": 43,
   "id": "eb5ed2c7-60a2-4177-aeb3-9ae0dcbb4bc7",
   "metadata": {
    "tags": []
   },
   "outputs": [
    {
     "data": {
      "text/plain": [
       "15.199110829529339"
      ]
     },
     "execution_count": 43,
     "metadata": {},
     "output_type": "execute_result"
    }
   ],
   "source": [
    "ridge_2.alpha_"
   ]
  },
  {
   "cell_type": "code",
   "execution_count": 44,
   "id": "6e141362-d56a-4b04-b5dc-40ec694c16f7",
   "metadata": {
    "tags": []
   },
   "outputs": [
    {
     "data": {
      "text/plain": [
       "[('overall_qual', 18520.82880359956),\n",
       " ('year_built', 3436.33633804762),\n",
       " ('year_remod/add', 4007.030726366353),\n",
       " ('mas_vnr_area', 4119.61189070283),\n",
       " ('total_bsmt_sf', 3031.6845244227975),\n",
       " ('1st_flr_sf', -2494.924338440915),\n",
       " ('gr_liv_area', 23001.529087496237),\n",
       " ('full_bath', 1742.2828522034981),\n",
       " ('totrms_abvgrd', 2977.323133546387),\n",
       " ('garage_yr_blt', -1677.5357916988346),\n",
       " ('garage_cars', 6503.71658263257),\n",
       " ('garage_area', 2363.827585098175),\n",
       " ('lot_shape_IR2', 934.7608508219015),\n",
       " ('lot_shape_IR3', -4328.0056030940195),\n",
       " ('lot_shape_Reg', -1100.9543139471555),\n",
       " ('land_contour_HLS', 6268.379264411903),\n",
       " ('land_contour_Low', 3292.4180176812006),\n",
       " ('land_contour_Lvl', 4977.535915164923),\n",
       " ('lot_config_CulDSac', 1591.9964716644215),\n",
       " ('lot_config_FR2', -1587.0632653091648),\n",
       " ('lot_config_FR3', 24.93679026789188),\n",
       " ('lot_config_Inside', -224.03294311332763),\n",
       " ('land_slope_Mod', 2272.548959571009),\n",
       " ('land_slope_Sev', 152.7457374965676),\n",
       " ('condition_1_Feedr', 341.8012296293887),\n",
       " ('condition_1_Norm', 3636.0277215100796),\n",
       " ('condition_1_PosA', 1905.7210244173034),\n",
       " ('condition_1_PosN', 3343.633338035866),\n",
       " ('condition_1_RRAe', -856.1082713684713),\n",
       " ('condition_1_RRAn', 916.962405732589),\n",
       " ('condition_1_RRNe', -1198.8025038464807),\n",
       " ('condition_1_RRNn', -1097.1158353677438),\n",
       " ('bldg_type_2fmCon', -1929.308291347374),\n",
       " ('bldg_type_Duplex', -3130.950710968755),\n",
       " ('bldg_type_Twnhs', -4082.9811241518155),\n",
       " ('bldg_type_TwnhsE', -4972.632685016303),\n",
       " ('house_style_1.5Unf', 1211.465864054846),\n",
       " ('house_style_1Story', 3382.6852555900737),\n",
       " ('house_style_2.5Fin', 2509.200422650507),\n",
       " ('house_style_2.5Unf', 6.241075766022306),\n",
       " ('house_style_2Story', -1882.5726403135725),\n",
       " ('house_style_SFoyer', -13.390494539148174),\n",
       " ('house_style_SLvl', -2356.81916517373),\n",
       " ('roof_style_Gable', 4250.632672020825),\n",
       " ('roof_style_Gambrel', 1664.7969414075671),\n",
       " ('roof_style_Hip', 6801.349481261351),\n",
       " ('roof_style_Mansard', -2034.3154854800355),\n",
       " ('roof_style_Shed', 679.8637391384499),\n",
       " ('exter_qual_Fa', -6585.516502278798),\n",
       " ('exter_qual_Gd', -18219.359851938603),\n",
       " ('exter_qual_TA', -24462.30662983704),\n",
       " ('exter_cond_Fa', -2527.057264696108),\n",
       " ('exter_cond_Gd', -2629.767755943928),\n",
       " ('exter_cond_Po', -983.5833933076893),\n",
       " ('exter_cond_TA', -4286.9373939750785),\n",
       " ('foundation_CBlock', 514.6483360977451),\n",
       " ('foundation_PConc', 3014.5429603453827),\n",
       " ('foundation_Slab', -1509.9898816293144),\n",
       " ('foundation_Stone', -162.79426201384624),\n",
       " ('foundation_Wood', 11.225213605525107),\n",
       " ('bsmt_qual_Fa', -3608.034147971729),\n",
       " ('bsmt_qual_Gd', -14045.02551381662),\n",
       " ('bsmt_qual_Po', -304.8897538998834),\n",
       " ('bsmt_qual_TA', -13946.145815333864),\n",
       " ('bsmt_exposure_Gd', 3338.9486520691644),\n",
       " ('bsmt_exposure_Mn', -1572.922746264431),\n",
       " ('bsmt_exposure_No', -3564.1330728948315),\n",
       " ('bsmtfin_type_1_BLQ', -1400.8280197508184),\n",
       " ('bsmtfin_type_1_GLQ', 809.8107708823967),\n",
       " ('bsmtfin_type_1_LwQ', -2931.9080945825112),\n",
       " ('bsmtfin_type_1_Rec', -1864.4886719488184),\n",
       " ('bsmtfin_type_1_Unf', -7540.396730071295),\n",
       " ('bsmtfin_type_2_BLQ', -2709.452235662444),\n",
       " ('bsmtfin_type_2_GLQ', 307.40930113706116),\n",
       " ('bsmtfin_type_2_LwQ', -3816.121413285244),\n",
       " ('bsmtfin_type_2_Rec', -3697.407707735413),\n",
       " ('bsmtfin_type_2_Unf', -5787.975380716299),\n",
       " ('central_air_Y', 562.3559044359631),\n",
       " ('garage_type_Attchd', 5566.756811787755),\n",
       " ('garage_type_Basment', 23.0862399648292),\n",
       " ('garage_type_BuiltIn', 5045.341149757434),\n",
       " ('garage_type_CarPort', -469.78256215938416),\n",
       " ('garage_type_Detchd', 3038.1960665066567),\n",
       " ('garage_finish_RFn', -1083.965387747103),\n",
       " ('garage_finish_Unf', 165.66191456686164),\n",
       " ('garage_cond_Fa', -1590.217867466115),\n",
       " ('garage_cond_Gd', -416.49641516342854),\n",
       " ('garage_cond_Po', -1901.4001394922507),\n",
       " ('garage_cond_TA', -637.6365276222248)]"
      ]
     },
     "execution_count": 44,
     "metadata": {},
     "output_type": "execute_result"
    }
   ],
   "source": [
    "list(zip(X.columns,ridge_2.coef_))"
   ]
  },
  {
   "cell_type": "code",
   "execution_count": 45,
   "id": "5a4f208f-7e30-499b-a2fd-303d5a3787f4",
   "metadata": {},
   "outputs": [],
   "source": [
    "predictions_r2 = ridge_2.predict(X_test_sc)"
   ]
  },
  {
   "cell_type": "code",
   "execution_count": 46,
   "id": "ae2b7d61-bb88-480d-8853-a776f536db36",
   "metadata": {},
   "outputs": [
    {
     "data": {
      "text/plain": [
       "793058685.7227693"
      ]
     },
     "execution_count": 46,
     "metadata": {},
     "output_type": "execute_result"
    }
   ],
   "source": [
    "mean_squared_error(y_test, predictions_r2)"
   ]
  },
  {
   "cell_type": "code",
   "execution_count": 47,
   "id": "93b9aa45-ce6d-4156-ba3b-4bb4e3b5518d",
   "metadata": {},
   "outputs": [
    {
     "data": {
      "text/plain": [
       "28161.29765693991"
      ]
     },
     "execution_count": 47,
     "metadata": {},
     "output_type": "execute_result"
    }
   ],
   "source": [
    "np.sqrt(mean_squared_error(y_test, predictions_r2))"
   ]
  },
  {
   "cell_type": "code",
   "execution_count": 48,
   "id": "6ad59ee6-cc79-4ba7-b0ef-1b5ca3fbdeea",
   "metadata": {},
   "outputs": [
    {
     "data": {
      "text/plain": [
       "20070.33804868006"
      ]
     },
     "execution_count": 48,
     "metadata": {},
     "output_type": "execute_result"
    }
   ],
   "source": [
    "mean_absolute_error(y_test, predictions_r2)"
   ]
  },
  {
   "cell_type": "markdown",
   "id": "2ed9878f-e6ed-43fa-aa8b-b84ed0b5af96",
   "metadata": {},
   "source": [
    "Modeling using Lasso"
   ]
  },
  {
   "cell_type": "code",
   "execution_count": 49,
   "id": "2f992ef5-f718-4acd-9976-59129265104c",
   "metadata": {
    "tags": []
   },
   "outputs": [],
   "source": [
    "lasso_2 = LassoCV(alphas = np.logspace(-3,0,100))\n",
    "lasso_2 = lasso_2.fit(X_train_sc, y_train)"
   ]
  },
  {
   "cell_type": "code",
   "execution_count": 50,
   "id": "0459251e-baef-4db3-a871-07a6d9206e27",
   "metadata": {
    "tags": []
   },
   "outputs": [
    {
     "data": {
      "text/plain": [
       "0.820845776814228"
      ]
     },
     "execution_count": 50,
     "metadata": {},
     "output_type": "execute_result"
    }
   ],
   "source": [
    "lasso_scores_2 = cross_val_score(lasso_2, X_train_sc, y_train, cv = 5)\n",
    "lasso_scores_2.mean()"
   ]
  },
  {
   "cell_type": "code",
   "execution_count": 51,
   "id": "9a555f7d-ca24-4156-b773-c97406ad80d5",
   "metadata": {
    "tags": []
   },
   "outputs": [
    {
     "data": {
      "text/plain": [
       "0.8607826780613012"
      ]
     },
     "execution_count": 51,
     "metadata": {},
     "output_type": "execute_result"
    }
   ],
   "source": [
    "lasso_2.score(X_train_sc, y_train)"
   ]
  },
  {
   "cell_type": "code",
   "execution_count": 52,
   "id": "7474ac69-63dc-4eed-bc57-253fc44fab80",
   "metadata": {
    "tags": []
   },
   "outputs": [
    {
     "data": {
      "text/plain": [
       "0.8678548339427786"
      ]
     },
     "execution_count": 52,
     "metadata": {},
     "output_type": "execute_result"
    }
   ],
   "source": [
    "lasso_2.score(X_test_sc, y_test)"
   ]
  },
  {
   "cell_type": "code",
   "execution_count": 53,
   "id": "8a86d38d-8989-4e7a-ae85-f712176b0a3c",
   "metadata": {},
   "outputs": [
    {
     "data": {
      "text/plain": [
       "1.0"
      ]
     },
     "execution_count": 53,
     "metadata": {},
     "output_type": "execute_result"
    }
   ],
   "source": [
    "lasso_2.alpha_"
   ]
  },
  {
   "cell_type": "code",
   "execution_count": 54,
   "id": "13e80494-f4ed-4468-b6a5-50d16fc88314",
   "metadata": {
    "tags": []
   },
   "outputs": [
    {
     "data": {
      "text/plain": [
       "[('overall_qual', 18344.549083263562),\n",
       " ('year_built', 3256.2466669005266),\n",
       " ('year_remod/add', 3803.3491359790496),\n",
       " ('mas_vnr_area', 3692.624409355133),\n",
       " ('total_bsmt_sf', 2781.4542854342812),\n",
       " ('1st_flr_sf', -5354.180454200977),\n",
       " ('gr_liv_area', 26883.86578773963),\n",
       " ('full_bath', 1565.3889379007082),\n",
       " ('totrms_abvgrd', 2234.944731860796),\n",
       " ('garage_yr_blt', -1976.893303181555),\n",
       " ('garage_cars', 7323.992420731232),\n",
       " ('garage_area', 1622.130961914783),\n",
       " ('lot_shape_IR2', 960.109528767366),\n",
       " ('lot_shape_IR3', -4369.550566271093),\n",
       " ('lot_shape_Reg', -1118.008045867869),\n",
       " ('land_contour_HLS', 6426.958666242377),\n",
       " ('land_contour_Low', 3520.4824952707677),\n",
       " ('land_contour_Lvl', 5395.5634821966005),\n",
       " ('lot_config_CulDSac', 1548.6861531232344),\n",
       " ('lot_config_FR2', -1638.226637161645),\n",
       " ('lot_config_FR3', 61.1120204072311),\n",
       " ('lot_config_Inside', -246.88949887381202),\n",
       " ('land_slope_Mod', 2320.165739875659),\n",
       " ('land_slope_Sev', 189.6011229642443),\n",
       " ('condition_1_Feedr', 462.9195806481782),\n",
       " ('condition_1_Norm', 3923.0236595652573),\n",
       " ('condition_1_PosA', 1970.8077869902527),\n",
       " ('condition_1_PosN', 3425.745951031823),\n",
       " ('condition_1_RRAe', -785.8091386949138),\n",
       " ('condition_1_RRAn', 1063.0421517385114),\n",
       " ('condition_1_RRNe', -1179.620533020966),\n",
       " ('condition_1_RRNn', -1120.8263005943043),\n",
       " ('bldg_type_2fmCon', -1825.4365381058954),\n",
       " ('bldg_type_Duplex', -2825.9310331060306),\n",
       " ('bldg_type_Twnhs', -4068.722541950048),\n",
       " ('bldg_type_TwnhsE', -5159.803525486953),\n",
       " ('house_style_1.5Unf', 1466.5441698576803),\n",
       " ('house_style_1Story', 5360.120679514855),\n",
       " ('house_style_2.5Fin', 2263.207236679146),\n",
       " ('house_style_2.5Unf', -252.76095316072792),\n",
       " ('house_style_2Story', -2544.040771696287),\n",
       " ('house_style_SFoyer', 449.31557910265815),\n",
       " ('house_style_SLvl', -1798.149275121368),\n",
       " ('roof_style_Gable', 7516.470164125347),\n",
       " ('roof_style_Gambrel', 2279.2576728841123),\n",
       " ('roof_style_Hip', 9776.228993258928),\n",
       " ('roof_style_Mansard', -1737.2941515515417),\n",
       " ('roof_style_Shed', 951.3923473025712),\n",
       " ('exter_qual_Fa', -7754.702649180082),\n",
       " ('exter_qual_Gd', -22225.90775753039),\n",
       " ('exter_qual_TA', -29022.544660242358),\n",
       " ('exter_cond_Fa', -3289.195486366045),\n",
       " ('exter_cond_Gd', -4198.492124553675),\n",
       " ('exter_cond_Po', -1199.520097132826),\n",
       " ('exter_cond_TA', -6006.406374627515),\n",
       " ('foundation_CBlock', 859.8095367959764),\n",
       " ('foundation_PConc', 3205.6689673903984),\n",
       " ('foundation_Slab', -1584.981634821989),\n",
       " ('foundation_Stone', -230.39984845160123),\n",
       " ('foundation_Wood', -1.8582008991584247),\n",
       " ('bsmt_qual_Fa', -3845.539607865806),\n",
       " ('bsmt_qual_Gd', -14326.256599614742),\n",
       " ('bsmt_qual_Po', -317.41382942542106),\n",
       " ('bsmt_qual_TA', -14612.022708248265),\n",
       " ('bsmt_exposure_Gd', 3173.022184812735),\n",
       " ('bsmt_exposure_Mn', -1652.9192075012747),\n",
       " ('bsmt_exposure_No', -3633.361660638069),\n",
       " ('bsmtfin_type_1_BLQ', -1522.4780411460572),\n",
       " ('bsmtfin_type_1_GLQ', 407.04860358012166),\n",
       " ('bsmtfin_type_1_LwQ', -3204.3602169588044),\n",
       " ('bsmtfin_type_1_Rec', -2021.0879261757468),\n",
       " ('bsmtfin_type_1_Unf', -7812.829230399694),\n",
       " ('bsmtfin_type_2_BLQ', -3174.736150962903),\n",
       " ('bsmtfin_type_2_GLQ', 13.004616679844462),\n",
       " ('bsmtfin_type_2_LwQ', -4375.191532821744),\n",
       " ('bsmtfin_type_2_Rec', -4257.965758304721),\n",
       " ('bsmtfin_type_2_Unf', -6750.084795199353),\n",
       " ('central_air_Y', 522.9352700624604),\n",
       " ('garage_type_Attchd', 8028.536623982112),\n",
       " ('garage_type_Basment', 733.5499684612669),\n",
       " ('garage_type_BuiltIn', 5861.042346569327),\n",
       " ('garage_type_CarPort', -57.576401780248695),\n",
       " ('garage_type_Detchd', 5248.82149319683),\n",
       " ('garage_finish_RFn', -895.4258285657556),\n",
       " ('garage_finish_Unf', 451.10735505770083),\n",
       " ('garage_cond_Fa', -2192.536377069494),\n",
       " ('garage_cond_Gd', -762.3905169164467),\n",
       " ('garage_cond_Po', -2213.7853546273827),\n",
       " ('garage_cond_TA', -1345.0195630788864)]"
      ]
     },
     "execution_count": 54,
     "metadata": {},
     "output_type": "execute_result"
    }
   ],
   "source": [
    "list(zip(X.columns,lasso_2.coef_))"
   ]
  },
  {
   "cell_type": "code",
   "execution_count": 55,
   "id": "c51abd33-c708-4ee5-8feb-ee9e00e3b951",
   "metadata": {},
   "outputs": [],
   "source": [
    "predictions_l2 = lasso_2.predict(X_test_sc)"
   ]
  },
  {
   "cell_type": "code",
   "execution_count": 56,
   "id": "da9f237b-9559-481e-82fa-a23b651c4657",
   "metadata": {},
   "outputs": [
    {
     "data": {
      "text/plain": [
       "811374587.5823822"
      ]
     },
     "execution_count": 56,
     "metadata": {},
     "output_type": "execute_result"
    }
   ],
   "source": [
    "mean_squared_error(y_test, predictions_l2)"
   ]
  },
  {
   "cell_type": "code",
   "execution_count": 57,
   "id": "8c1bde5c-7b0c-46ae-9533-db6c44837e6e",
   "metadata": {},
   "outputs": [
    {
     "data": {
      "text/plain": [
       "28484.63774708013"
      ]
     },
     "execution_count": 57,
     "metadata": {},
     "output_type": "execute_result"
    }
   ],
   "source": [
    "np.sqrt(mean_squared_error(y_test, predictions_l2))"
   ]
  },
  {
   "cell_type": "code",
   "execution_count": 58,
   "id": "fa4aa535-f9ab-4664-9b33-3568e1318cf0",
   "metadata": {},
   "outputs": [
    {
     "data": {
      "text/plain": [
       "20144.938409154358"
      ]
     },
     "execution_count": 58,
     "metadata": {},
     "output_type": "execute_result"
    }
   ],
   "source": [
    "mean_absolute_error(y_test, predictions_l2)"
   ]
  },
  {
   "cell_type": "markdown",
   "id": "98323c5c-cecf-4c83-949b-28d888227ab8",
   "metadata": {},
   "source": [
    "The lasso mean of cross_val_score is higher than ridge"
   ]
  },
  {
   "cell_type": "markdown",
   "id": "13d5f107-1bfb-4d5c-aa5c-261445506ad8",
   "metadata": {
    "tags": []
   },
   "source": [
    "### Modeling Interpretation & Conclusions"
   ]
  },
  {
   "cell_type": "markdown",
   "id": "033a7587-80e0-4524-a1b8-5001ff854a95",
   "metadata": {
    "tags": []
   },
   "source": [
    "- Model 1 and model 2 are predicted base on 87 features including some objects features after OneHotEncorder by applying Linear Regression model, Ridge model, and Lasso model. The train score of all the models are little higher than test score. Both models are underfit. To improve the underfit of both models, I should  add more features and try some different range of alpha on ridge and lasso model."
   ]
  },
  {
   "cell_type": "markdown",
   "id": "0fb885a0-4b06-4a4a-9cf4-cd4429776af1",
   "metadata": {},
   "source": [
    "- The Root Mean Squared Error (RMSE) of the model 1 and model 2 are high. The values of the RMSE are high may be due to some outliers.\n",
    "- The RMSE in the Linear Regression model are higher than Ridge and Lasso model. In model 1, the RMSE of Linear Regression is around 28492.93, RMSE of Ridge is around 28237.79, and RMSE of Lasso is around 28050.53. In the model 2, I keep the Linear Regression model the same but change the range of alpha in Ridge and Lasso model.  The RMSE of Ridge in model 2 is around 28161.30 and lower than model 1 but the RMSE of Lasso in model 2 is higher than model 1, it is around 28484.64.   \n",
    "- In model 1, the best test score (around 0.872) and the lowest MSE is from Lasso model. In model 2, the best test score (around 0.871) and lowest MSE is from Ridge model. "
   ]
  },
  {
   "cell_type": "markdown",
   "id": "2574a11b-d95b-4bd1-ab6f-2a4db22fc775",
   "metadata": {},
   "source": [
    "- In conclusion, model 1 and model 2 cannot be use to predict the sale price due to the high value of MSE. In the future, may be add more features, try some different model and different range of alpha on Ridge and Lasso. "
   ]
  },
  {
   "cell_type": "markdown",
   "id": "3f9e2437-633f-49c3-a4b0-31afcfb0f963",
   "metadata": {},
   "source": [
    "### Apply the model to test dataset"
   ]
  },
  {
   "cell_type": "code",
   "execution_count": 21,
   "id": "c47cceca-0d1c-4740-8ba5-fb7b79c1d6bc",
   "metadata": {
    "tags": []
   },
   "outputs": [
    {
     "data": {
      "text/html": [
       "<div>\n",
       "<style scoped>\n",
       "    .dataframe tbody tr th:only-of-type {\n",
       "        vertical-align: middle;\n",
       "    }\n",
       "\n",
       "    .dataframe tbody tr th {\n",
       "        vertical-align: top;\n",
       "    }\n",
       "\n",
       "    .dataframe thead th {\n",
       "        text-align: right;\n",
       "    }\n",
       "</style>\n",
       "<table border=\"1\" class=\"dataframe\">\n",
       "  <thead>\n",
       "    <tr style=\"text-align: right;\">\n",
       "      <th></th>\n",
       "      <th>overall_qual</th>\n",
       "      <th>year_built</th>\n",
       "      <th>year_remod/add</th>\n",
       "      <th>mas_vnr_area</th>\n",
       "      <th>total_bsmt_sf</th>\n",
       "      <th>1st_flr_sf</th>\n",
       "      <th>gr_liv_area</th>\n",
       "      <th>full_bath</th>\n",
       "      <th>totrms_abvgrd</th>\n",
       "      <th>garage_yr_blt</th>\n",
       "      <th>...</th>\n",
       "      <th>garage_type_Basment</th>\n",
       "      <th>garage_type_BuiltIn</th>\n",
       "      <th>garage_type_CarPort</th>\n",
       "      <th>garage_type_Detchd</th>\n",
       "      <th>garage_finish_RFn</th>\n",
       "      <th>garage_finish_Unf</th>\n",
       "      <th>garage_cond_Fa</th>\n",
       "      <th>garage_cond_Gd</th>\n",
       "      <th>garage_cond_Po</th>\n",
       "      <th>garage_cond_TA</th>\n",
       "    </tr>\n",
       "  </thead>\n",
       "  <tbody>\n",
       "    <tr>\n",
       "      <th>0</th>\n",
       "      <td>6</td>\n",
       "      <td>1910</td>\n",
       "      <td>1950</td>\n",
       "      <td>0.0</td>\n",
       "      <td>1020</td>\n",
       "      <td>908</td>\n",
       "      <td>1928</td>\n",
       "      <td>2</td>\n",
       "      <td>9</td>\n",
       "      <td>1910.0</td>\n",
       "      <td>...</td>\n",
       "      <td>0.0</td>\n",
       "      <td>0.0</td>\n",
       "      <td>0.0</td>\n",
       "      <td>1.0</td>\n",
       "      <td>0.0</td>\n",
       "      <td>1.0</td>\n",
       "      <td>0.0</td>\n",
       "      <td>0.0</td>\n",
       "      <td>1.0</td>\n",
       "      <td>0.0</td>\n",
       "    </tr>\n",
       "    <tr>\n",
       "      <th>1</th>\n",
       "      <td>5</td>\n",
       "      <td>1977</td>\n",
       "      <td>1977</td>\n",
       "      <td>0.0</td>\n",
       "      <td>1967</td>\n",
       "      <td>1967</td>\n",
       "      <td>1967</td>\n",
       "      <td>2</td>\n",
       "      <td>10</td>\n",
       "      <td>1977.0</td>\n",
       "      <td>...</td>\n",
       "      <td>0.0</td>\n",
       "      <td>0.0</td>\n",
       "      <td>0.0</td>\n",
       "      <td>0.0</td>\n",
       "      <td>0.0</td>\n",
       "      <td>0.0</td>\n",
       "      <td>0.0</td>\n",
       "      <td>0.0</td>\n",
       "      <td>0.0</td>\n",
       "      <td>1.0</td>\n",
       "    </tr>\n",
       "    <tr>\n",
       "      <th>2</th>\n",
       "      <td>7</td>\n",
       "      <td>2006</td>\n",
       "      <td>2006</td>\n",
       "      <td>0.0</td>\n",
       "      <td>654</td>\n",
       "      <td>664</td>\n",
       "      <td>1496</td>\n",
       "      <td>2</td>\n",
       "      <td>7</td>\n",
       "      <td>2006.0</td>\n",
       "      <td>...</td>\n",
       "      <td>0.0</td>\n",
       "      <td>0.0</td>\n",
       "      <td>0.0</td>\n",
       "      <td>0.0</td>\n",
       "      <td>1.0</td>\n",
       "      <td>0.0</td>\n",
       "      <td>0.0</td>\n",
       "      <td>0.0</td>\n",
       "      <td>0.0</td>\n",
       "      <td>1.0</td>\n",
       "    </tr>\n",
       "    <tr>\n",
       "      <th>3</th>\n",
       "      <td>5</td>\n",
       "      <td>1923</td>\n",
       "      <td>2006</td>\n",
       "      <td>0.0</td>\n",
       "      <td>968</td>\n",
       "      <td>968</td>\n",
       "      <td>968</td>\n",
       "      <td>1</td>\n",
       "      <td>5</td>\n",
       "      <td>1935.0</td>\n",
       "      <td>...</td>\n",
       "      <td>0.0</td>\n",
       "      <td>0.0</td>\n",
       "      <td>0.0</td>\n",
       "      <td>1.0</td>\n",
       "      <td>0.0</td>\n",
       "      <td>1.0</td>\n",
       "      <td>0.0</td>\n",
       "      <td>0.0</td>\n",
       "      <td>0.0</td>\n",
       "      <td>1.0</td>\n",
       "    </tr>\n",
       "    <tr>\n",
       "      <th>4</th>\n",
       "      <td>6</td>\n",
       "      <td>1963</td>\n",
       "      <td>1963</td>\n",
       "      <td>247.0</td>\n",
       "      <td>1394</td>\n",
       "      <td>1394</td>\n",
       "      <td>1394</td>\n",
       "      <td>1</td>\n",
       "      <td>6</td>\n",
       "      <td>1963.0</td>\n",
       "      <td>...</td>\n",
       "      <td>0.0</td>\n",
       "      <td>0.0</td>\n",
       "      <td>0.0</td>\n",
       "      <td>0.0</td>\n",
       "      <td>1.0</td>\n",
       "      <td>0.0</td>\n",
       "      <td>0.0</td>\n",
       "      <td>0.0</td>\n",
       "      <td>0.0</td>\n",
       "      <td>1.0</td>\n",
       "    </tr>\n",
       "  </tbody>\n",
       "</table>\n",
       "<p>5 rows × 89 columns</p>\n",
       "</div>"
      ],
      "text/plain": [
       "   overall_qual  year_built  year_remod/add  mas_vnr_area  total_bsmt_sf  \\\n",
       "0             6        1910            1950           0.0           1020   \n",
       "1             5        1977            1977           0.0           1967   \n",
       "2             7        2006            2006           0.0            654   \n",
       "3             5        1923            2006           0.0            968   \n",
       "4             6        1963            1963         247.0           1394   \n",
       "\n",
       "   1st_flr_sf  gr_liv_area  full_bath  totrms_abvgrd  garage_yr_blt  ...  \\\n",
       "0         908         1928          2              9         1910.0  ...   \n",
       "1        1967         1967          2             10         1977.0  ...   \n",
       "2         664         1496          2              7         2006.0  ...   \n",
       "3         968          968          1              5         1935.0  ...   \n",
       "4        1394         1394          1              6         1963.0  ...   \n",
       "\n",
       "   garage_type_Basment  garage_type_BuiltIn  garage_type_CarPort  \\\n",
       "0                  0.0                  0.0                  0.0   \n",
       "1                  0.0                  0.0                  0.0   \n",
       "2                  0.0                  0.0                  0.0   \n",
       "3                  0.0                  0.0                  0.0   \n",
       "4                  0.0                  0.0                  0.0   \n",
       "\n",
       "   garage_type_Detchd  garage_finish_RFn  garage_finish_Unf  garage_cond_Fa  \\\n",
       "0                 1.0                0.0                1.0             0.0   \n",
       "1                 0.0                0.0                0.0             0.0   \n",
       "2                 0.0                1.0                0.0             0.0   \n",
       "3                 1.0                0.0                1.0             0.0   \n",
       "4                 0.0                1.0                0.0             0.0   \n",
       "\n",
       "   garage_cond_Gd  garage_cond_Po  garage_cond_TA  \n",
       "0             0.0             1.0             0.0  \n",
       "1             0.0             0.0             1.0  \n",
       "2             0.0             0.0             1.0  \n",
       "3             0.0             0.0             1.0  \n",
       "4             0.0             0.0             1.0  \n",
       "\n",
       "[5 rows x 89 columns]"
      ]
     },
     "execution_count": 21,
     "metadata": {},
     "output_type": "execute_result"
    }
   ],
   "source": [
    "test_model = pd.read_csv('../datasets/test_cleaning.csv')\n",
    "test_model.head()"
   ]
  },
  {
   "cell_type": "code",
   "execution_count": 22,
   "id": "c60014b8-a46f-4a53-9dea-94ddb798be9f",
   "metadata": {
    "tags": []
   },
   "outputs": [],
   "source": [
    "predictions = lr.predict(test_model)"
   ]
  },
  {
   "cell_type": "code",
   "execution_count": 23,
   "id": "9a776b08-c5a6-4bd6-825c-a3b9abe4e646",
   "metadata": {
    "tags": []
   },
   "outputs": [],
   "source": [
    "test = pd.read_csv('../datasets/test.csv')"
   ]
  },
  {
   "cell_type": "code",
   "execution_count": 24,
   "id": "e9cbbdfa-fe96-496f-ab32-7e730b653bc7",
   "metadata": {},
   "outputs": [
    {
     "data": {
      "text/html": [
       "<div>\n",
       "<style scoped>\n",
       "    .dataframe tbody tr th:only-of-type {\n",
       "        vertical-align: middle;\n",
       "    }\n",
       "\n",
       "    .dataframe tbody tr th {\n",
       "        vertical-align: top;\n",
       "    }\n",
       "\n",
       "    .dataframe thead th {\n",
       "        text-align: right;\n",
       "    }\n",
       "</style>\n",
       "<table border=\"1\" class=\"dataframe\">\n",
       "  <thead>\n",
       "    <tr style=\"text-align: right;\">\n",
       "      <th></th>\n",
       "      <th>Id</th>\n",
       "      <th>SalePrice</th>\n",
       "    </tr>\n",
       "  </thead>\n",
       "  <tbody>\n",
       "    <tr>\n",
       "      <th>0</th>\n",
       "      <td>2658</td>\n",
       "      <td>118192.749611</td>\n",
       "    </tr>\n",
       "    <tr>\n",
       "      <th>1</th>\n",
       "      <td>2718</td>\n",
       "      <td>164732.206429</td>\n",
       "    </tr>\n",
       "    <tr>\n",
       "      <th>2</th>\n",
       "      <td>2414</td>\n",
       "      <td>216325.656846</td>\n",
       "    </tr>\n",
       "    <tr>\n",
       "      <th>3</th>\n",
       "      <td>1989</td>\n",
       "      <td>132949.416565</td>\n",
       "    </tr>\n",
       "    <tr>\n",
       "      <th>4</th>\n",
       "      <td>625</td>\n",
       "      <td>170653.728759</td>\n",
       "    </tr>\n",
       "  </tbody>\n",
       "</table>\n",
       "</div>"
      ],
      "text/plain": [
       "     Id      SalePrice\n",
       "0  2658  118192.749611\n",
       "1  2718  164732.206429\n",
       "2  2414  216325.656846\n",
       "3  1989  132949.416565\n",
       "4   625  170653.728759"
      ]
     },
     "execution_count": 24,
     "metadata": {},
     "output_type": "execute_result"
    }
   ],
   "source": [
    "test_preds_df = pd.DataFrame({\n",
    "    'Id': test['Id'],\n",
    "    'SalePrice': predictions\n",
    "})\n",
    "\n",
    "test_preds_df.head()"
   ]
  },
  {
   "cell_type": "code",
   "execution_count": 25,
   "id": "24c8a242-129e-44f1-aa29-a917d42d0e97",
   "metadata": {
    "tags": []
   },
   "outputs": [],
   "source": [
    "test_preds_df.to_csv('../datasets/model_3.csv', index=False)"
   ]
  },
  {
   "cell_type": "code",
   "execution_count": null,
   "id": "6a629ea8-5e32-44ef-b5c0-7c01efa8ecae",
   "metadata": {},
   "outputs": [],
   "source": []
  }
 ],
 "metadata": {
  "kernelspec": {
   "display_name": "Python 3 (ipykernel)",
   "language": "python",
   "name": "python3"
  },
  "language_info": {
   "codemirror_mode": {
    "name": "ipython",
    "version": 3
   },
   "file_extension": ".py",
   "mimetype": "text/x-python",
   "name": "python",
   "nbconvert_exporter": "python",
   "pygments_lexer": "ipython3",
   "version": "3.11.4"
  }
 },
 "nbformat": 4,
 "nbformat_minor": 5
}
